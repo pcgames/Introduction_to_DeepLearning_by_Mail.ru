{
 "cells": [
  {
   "cell_type": "markdown",
   "metadata": {
    "colab_type": "text",
    "collapsed": true,
    "id": "PeiXy5PHZhpC"
   },
   "source": [
    "# Home work \"CTC-loss\"\n",
    "\n",
    "Задача: реализовать прямой (forward) проход и вчислить матрицу $\\alpha_t(s)$. Значения этой матрицы должны равняться\n",
    "- $\\alpha_t(s)$ в случае если валидные пути проходят через данную ячейку\n",
    "- 0.0 в противном случае\n",
    "\n",
    "Размерности входов и результата см. по коду.\n",
    "\n",
    "Ноутбук с решением присыслать на voropaev@corp.mail.ru Тему письма пишите пожалуйста в формате \"[МИФИ] Фамилия\"\n",
    "\n",
    "Deadline: 21.12.2018"
   ]
  },
  {
   "cell_type": "code",
   "execution_count": 0,
   "metadata": {
    "colab": {},
    "colab_type": "code",
    "id": "ro97VsPqZhpI"
   },
   "outputs": [],
   "source": [
    "import torch"
   ]
  },
  {
   "cell_type": "code",
   "execution_count": 0,
   "metadata": {
    "colab": {},
    "colab_type": "code",
    "id": "gosphwMQZhpU"
   },
   "outputs": [],
   "source": [
    "# Список меток символов строки, для которой рассчитываем loss. Значение 0 зарезервированно для пустого символа.\n",
    "l = torch.tensor([1,2,2,3,1,4,5,4,3,2,1,], dtype=torch.long)\n",
    "\n",
    "# y[t, s] - предсказанные сетью вероятности для каждого фрейма.\n",
    "y = torch.tensor(\n",
    "[[1,  0,  0., 0., 0., 0.],\n",
    " [1., 0., 0., 0., 0., 0.],\n",
    " [0., 1., 0., 0., 0., 0.],\n",
    " [0., 0., 1., 0., 0., 0.],\n",
    " [1., 0., 0., 0., 0., 0.],\n",
    " [0,  0., 1., 0., 0., 0.],\n",
    " [0., 0., 0., 1., 0., 0.],\n",
    " [0., 1., 0., 0., 0., 0.],\n",
    " [0., 0., 0., 0., 1., 0.],\n",
    " [0., 0., 0., 0., 0., 1.],\n",
    " [0., 0., 0., 0., 1., 0.],\n",
    " [0., 0., 0., 1., 0., 0.],\n",
    " [0., 0., 1., 0., 0., 0.],\n",
    " [0., 1., 0., 0., 0., 0.],], dtype=torch.float32)"
   ]
  },
  {
   "cell_type": "code",
   "execution_count": 0,
   "metadata": {
    "colab": {},
    "colab_type": "code",
    "id": "qQ5F3C7qZhpd"
   },
   "outputs": [],
   "source": [
    "def compute_ctc_alpha(l, y):\n",
    "    \"\"\"\n",
    "    Функция, вычисляющая матрицу $\\alpha$ для данного входа.\n",
    "    @param l метки символов строки, размерностью [L,]\n",
    "    @param y предсказанные сетью вероятности для каждого фрейма. Размерность [T, Lexicon+1]\n",
    "    @return матрицу $\\alpha$ размерностью [2*L+1, T]\n",
    "    \"\"\"\n",
    "    l_new = torch.zeros(2*l.size()[0]+1)\n",
    "    for i in range(0, l.size()[0]):\n",
    "      l_new[i*2+1] = l[i]\n",
    "    \n",
    "    alpha = torch.zeros((2*l.size()[0]+1, y.size()[0]))\n",
    "    alpha[0,0] = y[0,0]\n",
    "    alpha[1,0] = y[0,1]\n",
    "    for i in range(1, y.size()[0]):\n",
    "        for j in range(2*l.size()[0]+1):\n",
    "            if ( j%2 == 0 ) or ( l_new[j] == l_new[j-2] ):\n",
    "                alpha[j,i] = (alpha[j,i-1] + alpha[j-1,i-1])*y[i][int(l_new[j])]\n",
    "            else:\n",
    "                alpha[j,i] = (alpha[j,i-1] + alpha[j-1,i-1] + alpha[j-2,i-1])*y[i][int(l_new[j])]\n",
    "    return alpha"
   ]
  },
  {
   "cell_type": "code",
   "execution_count": 0,
   "metadata": {
    "colab": {},
    "colab_type": "code",
    "id": "u2OgUj85Zhpo"
   },
   "outputs": [],
   "source": [
    "# Этот блок приведен исключительно для примера. Реальный тест я подставлю сам. \n",
    "# Обязательно сохраните сигнатуру функции compute_ctc_alpha\n",
    "def test():\n",
    "    al = compute_ctc_alpha(l, y)\n",
    "    ritght_al = torch.tensor([\n",
    "        [1., 1., 0., 0., 0., 0., 0., 0., 0., 0., 0., 0., 0., 0.],\n",
    "        [0., 0., 1., 0., 0., 0., 0., 0., 0., 0., 0., 0., 0., 0.],\n",
    "        [0., 0., 0., 0., 0., 0., 0., 0., 0., 0., 0., 0., 0., 0.],\n",
    "        [0., 0., 0., 1., 0., 0., 0., 0., 0., 0., 0., 0., 0., 0.],\n",
    "        [0., 0., 0., 0., 1., 0., 0., 0., 0., 0., 0., 0., 0., 0.],\n",
    "        [0., 0., 0., 0., 0., 1., 0., 0., 0., 0., 0., 0., 0., 0.],\n",
    "        [0., 0., 0., 0., 0., 0., 0., 0., 0., 0., 0., 0., 0., 0.],\n",
    "        [0., 0., 0., 0., 0., 0., 1., 0., 0., 0., 0., 0., 0., 0.],\n",
    "        [0., 0., 0., 0., 0., 0., 0., 0., 0., 0., 0., 0., 0., 0.],\n",
    "        [0., 0., 0., 0., 0., 0., 0., 1., 0., 0., 0., 0., 0., 0.],\n",
    "        [0., 0., 0., 0., 0., 0., 0., 0., 0., 0., 0., 0., 0., 0.],\n",
    "        [0., 0., 0., 0., 0., 0., 0., 0., 1., 0., 0., 0., 0., 0.],\n",
    "        [0., 0., 0., 0., 0., 0., 0., 0., 0., 0., 0., 0., 0., 0.],\n",
    "        [0., 0., 0., 0., 0., 0., 0., 0., 0., 1., 0., 0., 0., 0.],\n",
    "        [0., 0., 0., 0., 0., 0., 0., 0., 0., 0., 0., 0., 0., 0.],\n",
    "        [0., 0., 0., 0., 0., 0., 0., 0., 0., 0., 1., 0., 0., 0.],\n",
    "        [0., 0., 0., 0., 0., 0., 0., 0., 0., 0., 0., 0., 0., 0.],\n",
    "        [0., 0., 0., 0., 0., 0., 0., 0., 0., 0., 0., 1., 0., 0.],\n",
    "        [0., 0., 0., 0., 0., 0., 0., 0., 0., 0., 0., 0., 0., 0.],\n",
    "        [0., 0., 0., 0., 0., 0., 0., 0., 0., 0., 0., 0., 1., 0.],\n",
    "        [0., 0., 0., 0., 0., 0., 0., 0., 0., 0., 0., 0., 0., 0.],\n",
    "        [0., 0., 0., 0., 0., 0., 0., 0., 0., 0., 0., 0., 0., 1.],\n",
    "        [0., 0., 0., 0., 0., 0., 0., 0., 0., 0., 0., 0., 0., 0.]])\n",
    "    \n",
    "    if torch.all(al == ritght_al):\n",
    "        return True\n",
    "    else:\n",
    "        return False\n",
    "    \n",
    "assert test(), \"Test failed\"\n",
    "    "
   ]
  },
  {
   "cell_type": "code",
   "execution_count": 0,
   "metadata": {
    "colab": {},
    "colab_type": "code",
    "id": "dr7UjI7aZhpz"
   },
   "outputs": [],
   "source": []
  }
 ],
 "metadata": {
  "colab": {
   "collapsed_sections": [],
   "name": "homework.ipynb",
   "provenance": [],
   "version": "0.3.2"
  },
  "kernelspec": {
   "display_name": "Python 3",
   "language": "python",
   "name": "python3"
  },
  "language_info": {
   "codemirror_mode": {
    "name": "ipython",
    "version": 3
   },
   "file_extension": ".py",
   "mimetype": "text/x-python",
   "name": "python",
   "nbconvert_exporter": "python",
   "pygments_lexer": "ipython3",
   "version": "3.6.8"
  }
 },
 "nbformat": 4,
 "nbformat_minor": 1
}
