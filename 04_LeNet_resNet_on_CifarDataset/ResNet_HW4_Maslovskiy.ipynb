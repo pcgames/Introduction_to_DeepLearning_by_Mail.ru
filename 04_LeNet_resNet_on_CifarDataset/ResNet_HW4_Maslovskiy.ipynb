{
 "cells": [
  {
   "cell_type": "code",
   "execution_count": 1,
   "metadata": {},
   "outputs": [],
   "source": [
    "import torch\n",
    "import torch.nn as nn\n",
    "import torch.nn.functional as F"
   ]
  },
  {
   "cell_type": "markdown",
   "metadata": {},
   "source": [
    "Подробности по ДЗ:\n",
    "1. Нужно реализовать флаг make_downsample - увеличивает кол-во фильтровать вдвое, размер уменьшается вдвое по высоте и ширине - например (64, 16, 16) -> (128, 8, 8)\n",
    "2. Нужно реализовать флаг use_skip_connection - если он включен, то на выходе блока добавляется X со входа - иначе блок работает как обычная сесть\n",
    "\n",
    "Особенности downsample\n",
    "1. Уменьшать размер входного изображения надо посредством conv3x3 со stride=2\n",
    "2. Уменьшаться размер должен первой конволюцией 3x3 в блоке\n",
    "3. В Bottleneck версии - кол-во фильтров меняется первым bottleneck слоем\n",
    "4. В случае если нет флага use_skip_connection не нужно использовать слой для downsample исходного изображения, так как оно не будет дальше использоваться\n",
    "\n",
    "\n",
    "Общие рекомендации по построению ResNet сетей:\n",
    "1. После каждой конволюции идет BatchNorm и Relu слои\n",
    "2. В конце ResNet блока после суммирования идет Relu слой\n",
    "3. Конволюциооные слои, включая слои Bottleneck не используют bias (bias=False) - опциональное\n",
    "\n",
    "Блоки строятся на основании статьи https://arxiv.org/abs/1512.03385\n",
    "\n",
    "Tutorial по Pytorch https://pytorch.org/tutorials/beginner/deep_learning_60min_blitz.html"
   ]
  },
  {
   "cell_type": "code",
   "execution_count": 2,
   "metadata": {},
   "outputs": [],
   "source": [
    "from operator import mul\n",
    "from functools import reduce\n",
    "\n",
    "# небольшой код по подсчету памяти и количества параметров в сети\n",
    "MODULES_STAT=[]\n",
    "\n",
    "def module_forward_hook(module, input, output):\n",
    "    weight = module.weight.size() if not isinstance(module, torch.nn.modules.MaxPool2d) else (0, 0, 0, 0)\n",
    "    print(\"Forward\", module)\n",
    "    MODULES_STAT.append((module, output.size(), weight))\n",
    "    \n",
    "def register_hook(module):\n",
    "    for item in module.children(): \n",
    "        if type(item) in [nn.modules.conv.Conv2d, nn.modules.MaxPool2d, nn.modules.Linear]:\n",
    "            print(\"RegisterHook\", item)\n",
    "            item.register_forward_hook(module_forward_hook)\n",
    "                 \n",
    "def features_mem_and_params(input_tenzor):\n",
    "    input_size = input_tenzor.size()\n",
    "    total_param = 0\n",
    "    total_mem =  reduce(mul,(input_size))\n",
    "    print( \"%02d\" % 0,\n",
    "          'INPUT',\n",
    "          \"memory\",\n",
    "          \"%dx%dx%d=%d\" % (input_size[1], input_size[2], input_size[3], reduce(mul,(input_size))),\n",
    "          \"parameters\", \"%dx%dx%d=%d\"%(0, 0, 0 , 0)\n",
    "         ) \n",
    "    for i, stat in enumerate(MODULES_STAT):\n",
    "        module_name = str(stat).split('(')[1]\n",
    "        total_param += reduce(mul,(stat[2]))\n",
    "        total_mem   += reduce(mul,(stat[1]))\n",
    "        \n",
    "        if 'Linear' in module_name:\n",
    "            print( \"%02d\"%(i+1),'FC',\"memory\", \"%dx%d=%d\"%(stat[1][0], stat[1][1], reduce(mul,(stat[1]))),\n",
    "               \"parameters\", \"%dx%d=%d\"%(stat[2][0], stat[2][1] , reduce(mul,(stat[2]))))\n",
    "        else:    \n",
    "            print( \"%02d\"%(i+1),module_name,\"memory\", \"%dx%dx%d=%d\"%(stat[1][1], stat[1][2], stat[1][3], reduce(mul,(stat[1]))),\n",
    "               \"parameters\", \"%dx%dx%dx%d=%d\"%(stat[2][0], stat[2][1], stat[2][2], stat[2][3] , reduce(mul,(stat[2]))))\n",
    "    print()\n",
    "    print (\"Total_mem: %d * 4 = %d\" % (total_mem, total_mem * 4))\n",
    "    print (\"Total params: %d\" % total_param, \"Total_mem: %d\" % total_mem)          \n",
    "    return (total_param, total_mem)"
   ]
  },
  {
   "cell_type": "code",
   "execution_count": 28,
   "metadata": {},
   "outputs": [],
   "source": [
    "DOWNSAMPLE_COEF = 2\n",
    "\n",
    "def conv3x3(a_in_planes, a_out_planes, a_stride=1):\n",
    "    \"\"\"\n",
    "    Основной строительный блок конволюций для ResNet\n",
    "    Включает в себя padding=1 - чтобы размерность сохранялась после его применения\n",
    "    \"\"\"\n",
    "    return nn.Conv2d(a_in_planes, a_out_planes,  stride=a_stride,\n",
    "                     kernel_size=3, padding=1, bias=False)\n",
    "\n",
    "def x_downsample(a_in_channels):\n",
    "     return nn.Conv2d(a_in_channels, \n",
    "               a_in_channels*DOWNSAMPLE_COEF,\n",
    "               kernel_size=1,\n",
    "               stride=2,\n",
    "               bias=False)"
   ]
  },
  {
   "cell_type": "code",
   "execution_count": 145,
   "metadata": {},
   "outputs": [],
   "source": [
    "class CifarResidualBlock(nn.Module):\n",
    "    def __init__(self, a_in_channels, make_downsample=False, use_skip_connection=True):\n",
    "        super(CifarResidualBlock, self).__init__()\n",
    "        self.use_skip_connection = use_skip_connection\n",
    "        self.make_downsample=make_downsample\n",
    "        \n",
    "        if make_downsample: coef = DOWNSAMPLE_COEF\n",
    "        else: coef = 1  \n",
    "        self.a_in_channels=a_in_channels    \n",
    "        ### TODO - нужно описать используемые блоки\n",
    "        #a_in_channels*coef-количество каналов на выходе\n",
    "        self.conv1=conv3x3(a_in_planes=a_in_channels,a_out_planes=a_in_channels*coef,a_stride=coef)\n",
    "        self.bn1=nn.BatchNorm2d(a_in_channels*coef)\n",
    "        self.relu=nn.ReLU()\n",
    "        self.conv2=conv3x3(a_in_planes=a_in_channels*coef,a_out_planes=a_in_channels*coef)\n",
    "        self.bn2=nn.BatchNorm2d(a_in_channels*coef)\n",
    "        self.relu1=nn.ReLU()\n",
    "        self.down=x_downsample(a_in_channels)\n",
    "\n",
    "            \n",
    "    def forward(self, x):\n",
    "        ###TODO - описать forward блок с учетом флагов make_downsample и use_skip_connection\n",
    "        res=self.conv1(x)\n",
    "        res=self.bn1(res)\n",
    "        res=self.relu(res)\n",
    "        res=self.conv2(res)\n",
    "        res=self.bn2(res)\n",
    "        res=self.relu1(res)\n",
    "        \n",
    "        if self.use_skip_connection:\n",
    "            if self.make_downsample:\n",
    "#                 print(x.shape[0])\n",
    "                res+=self.down(x)\n",
    "                res=self.relu(res)\n",
    "            else:\n",
    "                res+=x\n",
    "                res=self.relu(res)\n",
    "\n",
    "        return res"
   ]
  },
  {
   "cell_type": "code",
   "execution_count": 146,
   "metadata": {},
   "outputs": [
    {
     "name": "stdout",
     "output_type": "stream",
     "text": [
      "RegisterHook Conv2d(256, 64, kernel_size=(1, 1), stride=(1, 1), bias=False)\n",
      "RegisterHook Conv2d(64, 64, kernel_size=(3, 3), stride=(1, 1), padding=(1, 1), bias=False)\n",
      "RegisterHook Conv2d(64, 256, kernel_size=(1, 1), stride=(1, 1), bias=False)\n",
      "RegisterHook Conv2d(256, 512, kernel_size=(1, 1), stride=(2, 2), bias=False)\n",
      "Forward Conv2d(256, 64, kernel_size=(1, 1), stride=(1, 1), bias=False)\n",
      "Forward Conv2d(64, 64, kernel_size=(3, 3), stride=(1, 1), padding=(1, 1), bias=False)\n",
      "Forward Conv2d(64, 256, kernel_size=(1, 1), stride=(1, 1), bias=False)\n",
      "00 INPUT memory 256x8x8=16384 parameters 0x0x0=0\n",
      "01 Conv2d memory 64x8x8=4096 parameters 64x256x1x1=16384\n",
      "02 Conv2d memory 64x8x8=4096 parameters 64x64x3x3=36864\n",
      "03 Conv2d memory 256x8x8=16384 parameters 256x64x1x1=16384\n",
      "\n",
      "Total_mem: 40960 * 4 = 163840\n",
      "Total params: 69632 Total_mem: 40960\n",
      "69632 40960\n"
     ]
    }
   ],
   "source": [
    "### Test 9\n",
    "\n",
    "MODULES_STAT=[]\n",
    "\n",
    "input = torch.ones(1, 256, 8, 8)\n",
    "block = CifarResidualBottleneckBlock(256, make_downsample=False, use_skip_connection=False)\n",
    "register_hook(block)\n",
    "out = block(input)\n",
    "\n",
    "params, memory = features_mem_and_params(input)\n",
    "print(params, memory)\n",
    "assert((params, memory) == (69632, 40960))"
   ]
  },
  {
   "cell_type": "code",
   "execution_count": 147,
   "metadata": {},
   "outputs": [
    {
     "name": "stdout",
     "output_type": "stream",
     "text": [
      "RegisterHook Conv2d(256, 64, kernel_size=(1, 1), stride=(1, 1), bias=False)\n",
      "RegisterHook Conv2d(64, 64, kernel_size=(3, 3), stride=(1, 1), padding=(1, 1), bias=False)\n",
      "RegisterHook Conv2d(64, 256, kernel_size=(1, 1), stride=(1, 1), bias=False)\n",
      "RegisterHook Conv2d(256, 512, kernel_size=(1, 1), stride=(2, 2), bias=False)\n",
      "Forward Conv2d(256, 64, kernel_size=(1, 1), stride=(1, 1), bias=False)\n",
      "Forward Conv2d(64, 64, kernel_size=(3, 3), stride=(1, 1), padding=(1, 1), bias=False)\n",
      "Forward Conv2d(64, 256, kernel_size=(1, 1), stride=(1, 1), bias=False)\n",
      "00 INPUT memory 256x8x8=16384 parameters 0x0x0=0\n",
      "01 Conv2d memory 64x8x8=4096 parameters 64x256x1x1=16384\n",
      "02 Conv2d memory 64x8x8=4096 parameters 64x64x3x3=36864\n",
      "03 Conv2d memory 256x8x8=16384 parameters 256x64x1x1=16384\n",
      "\n",
      "Total_mem: 40960 * 4 = 163840\n",
      "Total params: 69632 Total_mem: 40960\n",
      "69632 40960\n"
     ]
    }
   ],
   "source": [
    "### Test 9\n",
    "\n",
    "MODULES_STAT=[]\n",
    "\n",
    "input = torch.ones(1, 256, 8, 8)\n",
    "block = CifarResidualBottleneckBlock(256, make_downsample=False, use_skip_connection=False)\n",
    "register_hook(block)\n",
    "out = block(input)\n",
    "\n",
    "params, memory = features_mem_and_params(input)\n",
    "print(params, memory)\n",
    "assert((params, memory) == (69632, 40960))"
   ]
  },
  {
   "cell_type": "code",
   "execution_count": 148,
   "metadata": {},
   "outputs": [
    {
     "name": "stdout",
     "output_type": "stream",
     "text": [
      "Input size :\t\t torch.Size([1, 3, 32, 32])\n",
      "After first layers:\t torch.Size([1, 16, 32, 32])\n",
      "After ResBlock layers:\t torch.Size([1, 16, 32, 32])\n"
     ]
    }
   ],
   "source": [
    "### Test 1\n",
    "x = torch.ones(1, 3, 32, 32)*100\n",
    "print(\"Input size :\\t\\t\", x.size())\n",
    "\n",
    "first_conv = nn.Conv2d(3, 16, 3, padding=1, bias=False)\n",
    "x = first_conv(x)\n",
    "print(\"After first layers:\\t\", x.size())\n",
    "\n",
    "block = CifarResidualBlock(16, make_downsample=False, use_skip_connection=True)\n",
    "x = block(x)\n",
    "print(\"After ResBlock layers:\\t\", x.size())\n",
    "\n",
    "assert(x.size() == torch.Size((1, 16, 32, 32)))"
   ]
  },
  {
   "cell_type": "code",
   "execution_count": 149,
   "metadata": {},
   "outputs": [
    {
     "name": "stdout",
     "output_type": "stream",
     "text": [
      "Input size :\t\t torch.Size([1, 3, 32, 32])\n",
      "After first layers:\t torch.Size([1, 16, 32, 32])\n",
      "After ResBlock layers:\t torch.Size([1, 32, 16, 16])\n"
     ]
    }
   ],
   "source": [
    "### Test 2\n",
    "x = torch.ones(1, 3, 32, 32)*100\n",
    "print(\"Input size :\\t\\t\", x.size())\n",
    "\n",
    "first_conv = nn.Conv2d(3, 16, 3, padding=1, bias=False)\n",
    "x = first_conv(x)\n",
    "print(\"After first layers:\\t\", x.size())\n",
    "\n",
    "block = CifarResidualBlock(16, make_downsample=True, use_skip_connection=True)\n",
    "x = block(x)\n",
    "print(\"After ResBlock layers:\\t\", x.size())\n",
    "\n",
    "assert(x.size() == torch.Size((1, 32, 16, 16)))"
   ]
  },
  {
   "cell_type": "code",
   "execution_count": 150,
   "metadata": {},
   "outputs": [
    {
     "name": "stdout",
     "output_type": "stream",
     "text": [
      "Input size :\t\t torch.Size([1, 3, 32, 32])\n",
      "After first layers:\t torch.Size([1, 16, 32, 32])\n",
      "After ResBlock layers:\t torch.Size([1, 32, 16, 16])\n"
     ]
    }
   ],
   "source": [
    "### Test 2\n",
    "x = torch.ones(1, 3, 32, 32)*100\n",
    "print(\"Input size :\\t\\t\", x.size())\n",
    "\n",
    "first_conv = nn.Conv2d(3, 16, 3, padding=1, bias=False)\n",
    "x = first_conv(x)\n",
    "print(\"After first layers:\\t\", x.size())\n",
    "\n",
    "block = CifarResidualBlock(16, make_downsample=True, use_skip_connection=True)\n",
    "x = block(x)\n",
    "print(\"After ResBlock layers:\\t\", x.size())\n",
    "\n",
    "assert(x.size() == torch.Size((1, 32, 16, 16)))"
   ]
  },
  {
   "cell_type": "code",
   "execution_count": 151,
   "metadata": {},
   "outputs": [
    {
     "name": "stdout",
     "output_type": "stream",
     "text": [
      "16384 tensor(18376.6348, grad_fn=<SumBackward0>)\n"
     ]
    }
   ],
   "source": [
    "### Test 3\n",
    "x = torch.ones(1, 16, 32, 32)\n",
    "block = CifarResidualBlock(16, make_downsample=False, use_skip_connection=True)\n",
    "x = block(x)\n",
    "print(x.size()[1]*x.size()[2]*x.size()[3], x.sum())\n",
    "assert(x.sum() > 10000)"
   ]
  },
  {
   "cell_type": "code",
   "execution_count": 152,
   "metadata": {},
   "outputs": [
    {
     "name": "stdout",
     "output_type": "stream",
     "text": [
      "16384 tensor(2405.5618, grad_fn=<SumBackward0>)\n"
     ]
    }
   ],
   "source": [
    "### Test 4\n",
    "x = torch.ones(1, 16, 32, 32)\n",
    "block = CifarResidualBlock(16, make_downsample=False, use_skip_connection=False)\n",
    "x = block(x)\n",
    "print(x.size()[1]*x.size()[2]*x.size()[3], x.sum())\n",
    "assert(x.sum() < 5000)"
   ]
  },
  {
   "cell_type": "code",
   "execution_count": 153,
   "metadata": {},
   "outputs": [
    {
     "name": "stdout",
     "output_type": "stream",
     "text": [
      "RegisterHook Conv2d(256, 512, kernel_size=(3, 3), stride=(2, 2), padding=(1, 1), bias=False)\n",
      "RegisterHook Conv2d(512, 512, kernel_size=(3, 3), stride=(1, 1), padding=(1, 1), bias=False)\n",
      "RegisterHook Conv2d(256, 512, kernel_size=(1, 1), stride=(2, 2), bias=False)\n",
      "Forward Conv2d(256, 512, kernel_size=(3, 3), stride=(2, 2), padding=(1, 1), bias=False)\n",
      "Forward Conv2d(512, 512, kernel_size=(3, 3), stride=(1, 1), padding=(1, 1), bias=False)\n",
      "Forward Conv2d(256, 512, kernel_size=(1, 1), stride=(2, 2), bias=False)\n",
      "00 INPUT memory 256x8x8=16384 parameters 0x0x0=0\n",
      "01 Conv2d memory 512x4x4=8192 parameters 512x256x3x3=1179648\n",
      "02 Conv2d memory 512x4x4=8192 parameters 512x512x3x3=2359296\n",
      "03 Conv2d memory 512x4x4=8192 parameters 512x256x1x1=131072\n",
      "\n",
      "Total_mem: 40960 * 4 = 163840\n",
      "Total params: 3670016 Total_mem: 40960\n",
      "3670016 40960\n"
     ]
    }
   ],
   "source": [
    "### Test 5\n",
    "\n",
    "MODULES_STAT=[]\n",
    "\n",
    "input = torch.ones(1, 256, 8, 8)\n",
    "block = CifarResidualBlock(256, make_downsample=True, use_skip_connection=True)\n",
    "register_hook(block)\n",
    "out = block(input)\n",
    "\n",
    "params, memory = features_mem_and_params(input)\n",
    "print(params, memory)\n",
    "assert((params, memory) == (3670016, 40960))"
   ]
  },
  {
   "cell_type": "code",
   "execution_count": 154,
   "metadata": {},
   "outputs": [
    {
     "name": "stdout",
     "output_type": "stream",
     "text": [
      "RegisterHook Conv2d(256, 256, kernel_size=(3, 3), stride=(1, 1), padding=(1, 1), bias=False)\n",
      "RegisterHook Conv2d(256, 256, kernel_size=(3, 3), stride=(1, 1), padding=(1, 1), bias=False)\n",
      "RegisterHook Conv2d(256, 512, kernel_size=(1, 1), stride=(2, 2), bias=False)\n",
      "Forward Conv2d(256, 256, kernel_size=(3, 3), stride=(1, 1), padding=(1, 1), bias=False)\n",
      "Forward Conv2d(256, 256, kernel_size=(3, 3), stride=(1, 1), padding=(1, 1), bias=False)\n",
      "00 INPUT memory 256x8x8=16384 parameters 0x0x0=0\n",
      "01 Conv2d memory 256x8x8=16384 parameters 256x256x3x3=589824\n",
      "02 Conv2d memory 256x8x8=16384 parameters 256x256x3x3=589824\n",
      "\n",
      "Total_mem: 49152 * 4 = 196608\n",
      "Total params: 1179648 Total_mem: 49152\n",
      "1179648 49152\n"
     ]
    }
   ],
   "source": [
    "### Test 6\n",
    "\n",
    "MODULES_STAT=[]\n",
    "\n",
    "input = torch.ones(1, 256, 8, 8)\n",
    "block = CifarResidualBlock(256, make_downsample=False, use_skip_connection=True)\n",
    "register_hook(block)\n",
    "out = block(input)\n",
    "\n",
    "params, memory = features_mem_and_params(input)\n",
    "print(params, memory)\n",
    "assert((params, memory) == (1179648, 49152))"
   ]
  },
  {
   "cell_type": "code",
   "execution_count": 155,
   "metadata": {},
   "outputs": [
    {
     "name": "stdout",
     "output_type": "stream",
     "text": [
      "RegisterHook Conv2d(256, 512, kernel_size=(3, 3), stride=(2, 2), padding=(1, 1), bias=False)\n",
      "RegisterHook Conv2d(512, 512, kernel_size=(3, 3), stride=(1, 1), padding=(1, 1), bias=False)\n",
      "RegisterHook Conv2d(256, 512, kernel_size=(1, 1), stride=(2, 2), bias=False)\n",
      "Forward Conv2d(256, 512, kernel_size=(3, 3), stride=(2, 2), padding=(1, 1), bias=False)\n",
      "Forward Conv2d(512, 512, kernel_size=(3, 3), stride=(1, 1), padding=(1, 1), bias=False)\n",
      "00 INPUT memory 256x8x8=16384 parameters 0x0x0=0\n",
      "01 Conv2d memory 512x4x4=8192 parameters 512x256x3x3=1179648\n",
      "02 Conv2d memory 512x4x4=8192 parameters 512x512x3x3=2359296\n",
      "\n",
      "Total_mem: 32768 * 4 = 131072\n",
      "Total params: 3538944 Total_mem: 32768\n",
      "3538944 32768\n"
     ]
    }
   ],
   "source": [
    "### Test 7\n",
    "\n",
    "MODULES_STAT=[]\n",
    "\n",
    "input = torch.ones(1, 256, 8, 8)\n",
    "block = CifarResidualBlock(256, make_downsample=True, use_skip_connection=False)\n",
    "register_hook(block)\n",
    "out = block(input)\n",
    "\n",
    "params, memory = features_mem_and_params(input)\n",
    "print(params, memory)\n",
    "assert((params, memory) == (3538944, 32768))"
   ]
  },
  {
   "cell_type": "code",
   "execution_count": 156,
   "metadata": {},
   "outputs": [
    {
     "name": "stdout",
     "output_type": "stream",
     "text": [
      "RegisterHook Conv2d(256, 256, kernel_size=(3, 3), stride=(1, 1), padding=(1, 1), bias=False)\n",
      "RegisterHook Conv2d(256, 256, kernel_size=(3, 3), stride=(1, 1), padding=(1, 1), bias=False)\n",
      "RegisterHook Conv2d(256, 512, kernel_size=(1, 1), stride=(2, 2), bias=False)\n",
      "Forward Conv2d(256, 256, kernel_size=(3, 3), stride=(1, 1), padding=(1, 1), bias=False)\n",
      "Forward Conv2d(256, 256, kernel_size=(3, 3), stride=(1, 1), padding=(1, 1), bias=False)\n",
      "00 INPUT memory 256x8x8=16384 parameters 0x0x0=0\n",
      "01 Conv2d memory 256x8x8=16384 parameters 256x256x3x3=589824\n",
      "02 Conv2d memory 256x8x8=16384 parameters 256x256x3x3=589824\n",
      "\n",
      "Total_mem: 49152 * 4 = 196608\n",
      "Total params: 1179648 Total_mem: 49152\n",
      "1179648 49152\n"
     ]
    }
   ],
   "source": [
    "### Test 8\n",
    "\n",
    "MODULES_STAT=[]\n",
    "\n",
    "input = torch.ones(1, 256, 8, 8)\n",
    "block = CifarResidualBlock(256, make_downsample=False, use_skip_connection=False)\n",
    "register_hook(block)\n",
    "out = block(input)\n",
    "\n",
    "params, memory = features_mem_and_params(input)\n",
    "print(params, memory)\n",
    "assert((params, memory) == (1179648, 49152))"
   ]
  },
  {
   "cell_type": "code",
   "execution_count": 158,
   "metadata": {},
   "outputs": [],
   "source": [
    "class CifarResidualBottleneckBlock(nn.Module):\n",
    "    \n",
    "    BOTTLENECK_COEF = 4\n",
    "    \n",
    "    def __init__(self, a_in_channels, make_downsample=False, use_skip_connection=True):\n",
    "        super(CifarResidualBottleneckBlock, self).__init__()\n",
    "        self.use_skip_connection = use_skip_connection\n",
    "        self.make_downsample=make_downsample\n",
    "        if make_downsample: coef = DOWNSAMPLE_COEF\n",
    "        else: coef = 1  \n",
    "                        \n",
    "        ### TODO - нужно описать используемые блоки\n",
    "#         pass\n",
    "        bottle_neck_chanels=a_in_channels*coef//self.BOTTLENECK_COEF\n",
    "        self.conv1=nn.Conv2d(a_in_channels, bottle_neck_chanels, kernel_size=(1, 1),\n",
    "                             stride=(1, 1),\n",
    "                             padding=(0,0),\n",
    "                             bias=False)\n",
    "\n",
    "        self.bn1=nn.BatchNorm2d(bottle_neck_chanels)\n",
    "        self.relu=nn.ReLU()\n",
    "        self.conv2=conv3x3(a_in_planes=bottle_neck_chanels,\n",
    "                           a_out_planes=bottle_neck_chanels,\n",
    "                           a_stride=coef)\n",
    "        self.bn2=nn.BatchNorm2d(bottle_neck_chanels)\n",
    "        self.conv3=nn.Conv2d(bottle_neck_chanels,\n",
    "                             a_in_channels*coef,\n",
    "                             kernel_size=(1, 1),\n",
    "                             stride=(1, 1),\n",
    "                             bias=False)\n",
    "        self.bn3=nn.BatchNorm2d(a_in_channels*coef)\n",
    "        self.down=x_downsample(a_in_channels)\n",
    "            \n",
    "    def forward(self, x):\n",
    "        ###TODO - описать forward блок с учетом флагов make_downsample и use_skip_connection\n",
    "        res=self.conv1(x)\n",
    "        res=self.bn1(res)\n",
    "        res=self.relu(res)\n",
    "        res=self.conv2(res)\n",
    "        res=self.bn2(res)\n",
    "        res=self.relu(res)\n",
    "        res=self.conv3(res)\n",
    "        res=self.bn3(res)\n",
    "        res=self.relu(res)\n",
    "        \n",
    "        if self.use_skip_connection:\n",
    "            if self.make_downsample:\n",
    "#                 print(x.shape[0])\n",
    "                res+=self.down(x)\n",
    "                res=self.relu(res)\n",
    "            else:\n",
    "                res+=x\n",
    "#                 res=self.relu(res)\n",
    "\n",
    "        return res"
   ]
  },
  {
   "cell_type": "code",
   "execution_count": 159,
   "metadata": {},
   "outputs": [
    {
     "name": "stdout",
     "output_type": "stream",
     "text": [
      "RegisterHook Conv2d(256, 64, kernel_size=(1, 1), stride=(1, 1), bias=False)\n",
      "RegisterHook Conv2d(64, 64, kernel_size=(3, 3), stride=(1, 1), padding=(1, 1), bias=False)\n",
      "RegisterHook Conv2d(64, 256, kernel_size=(1, 1), stride=(1, 1), bias=False)\n",
      "RegisterHook Conv2d(256, 512, kernel_size=(1, 1), stride=(2, 2), bias=False)\n",
      "Forward Conv2d(256, 64, kernel_size=(1, 1), stride=(1, 1), bias=False)\n",
      "Forward Conv2d(64, 64, kernel_size=(3, 3), stride=(1, 1), padding=(1, 1), bias=False)\n",
      "Forward Conv2d(64, 256, kernel_size=(1, 1), stride=(1, 1), bias=False)\n",
      "00 INPUT memory 256x8x8=16384 parameters 0x0x0=0\n",
      "01 Conv2d memory 64x8x8=4096 parameters 64x256x1x1=16384\n",
      "02 Conv2d memory 64x8x8=4096 parameters 64x64x3x3=36864\n",
      "03 Conv2d memory 256x8x8=16384 parameters 256x64x1x1=16384\n",
      "\n",
      "Total_mem: 40960 * 4 = 163840\n",
      "Total params: 69632 Total_mem: 40960\n",
      "69632 40960\n"
     ]
    }
   ],
   "source": [
    "### Test 10\n",
    "\n",
    "MODULES_STAT=[]\n",
    "\n",
    "input = torch.ones(1, 256, 8, 8)\n",
    "block = CifarResidualBottleneckBlock(256, make_downsample=False, use_skip_connection=True)\n",
    "register_hook(block)\n",
    "out = block(input)\n",
    "\n",
    "params, memory = features_mem_and_params(input)\n",
    "print(params, memory)\n",
    "assert((params, memory) == (69632, 40960))"
   ]
  },
  {
   "cell_type": "code",
   "execution_count": 160,
   "metadata": {},
   "outputs": [
    {
     "name": "stdout",
     "output_type": "stream",
     "text": [
      "RegisterHook Conv2d(256, 128, kernel_size=(1, 1), stride=(1, 1), bias=False)\n",
      "RegisterHook Conv2d(128, 128, kernel_size=(3, 3), stride=(2, 2), padding=(1, 1), bias=False)\n",
      "RegisterHook Conv2d(128, 512, kernel_size=(1, 1), stride=(1, 1), bias=False)\n",
      "RegisterHook Conv2d(256, 512, kernel_size=(1, 1), stride=(2, 2), bias=False)\n",
      "Forward Conv2d(256, 128, kernel_size=(1, 1), stride=(1, 1), bias=False)\n",
      "Forward Conv2d(128, 128, kernel_size=(3, 3), stride=(2, 2), padding=(1, 1), bias=False)\n",
      "Forward Conv2d(128, 512, kernel_size=(1, 1), stride=(1, 1), bias=False)\n",
      "00 INPUT memory 256x8x8=16384 parameters 0x0x0=0\n",
      "01 Conv2d memory 128x8x8=8192 parameters 128x256x1x1=32768\n",
      "02 Conv2d memory 128x4x4=2048 parameters 128x128x3x3=147456\n",
      "03 Conv2d memory 512x4x4=8192 parameters 512x128x1x1=65536\n",
      "\n",
      "Total_mem: 34816 * 4 = 139264\n",
      "Total params: 245760 Total_mem: 34816\n",
      "245760 34816\n"
     ]
    }
   ],
   "source": [
    "### Test 11\n",
    "\n",
    "MODULES_STAT=[]\n",
    "\n",
    "input = torch.ones(1, 256, 8, 8)\n",
    "block = CifarResidualBottleneckBlock(256, make_downsample=True, use_skip_connection=False)\n",
    "register_hook(block)\n",
    "out = block(input)\n",
    "\n",
    "params, memory = features_mem_and_params(input)\n",
    "print(params, memory)\n",
    "assert((params, memory) == (245760, 34816))"
   ]
  },
  {
   "cell_type": "code",
   "execution_count": 161,
   "metadata": {},
   "outputs": [
    {
     "name": "stdout",
     "output_type": "stream",
     "text": [
      "RegisterHook Conv2d(256, 128, kernel_size=(1, 1), stride=(1, 1), bias=False)\n",
      "RegisterHook Conv2d(128, 128, kernel_size=(3, 3), stride=(2, 2), padding=(1, 1), bias=False)\n",
      "RegisterHook Conv2d(128, 512, kernel_size=(1, 1), stride=(1, 1), bias=False)\n",
      "RegisterHook Conv2d(256, 512, kernel_size=(1, 1), stride=(2, 2), bias=False)\n",
      "Forward Conv2d(256, 128, kernel_size=(1, 1), stride=(1, 1), bias=False)\n",
      "Forward Conv2d(128, 128, kernel_size=(3, 3), stride=(2, 2), padding=(1, 1), bias=False)\n",
      "Forward Conv2d(128, 512, kernel_size=(1, 1), stride=(1, 1), bias=False)\n",
      "Forward Conv2d(256, 512, kernel_size=(1, 1), stride=(2, 2), bias=False)\n",
      "00 INPUT memory 256x8x8=16384 parameters 0x0x0=0\n",
      "01 Conv2d memory 128x8x8=8192 parameters 128x256x1x1=32768\n",
      "02 Conv2d memory 128x4x4=2048 parameters 128x128x3x3=147456\n",
      "03 Conv2d memory 512x4x4=8192 parameters 512x128x1x1=65536\n",
      "04 Conv2d memory 512x4x4=8192 parameters 512x256x1x1=131072\n",
      "\n",
      "Total_mem: 43008 * 4 = 172032\n",
      "Total params: 376832 Total_mem: 43008\n",
      "376832 43008\n"
     ]
    }
   ],
   "source": [
    "### Test 12\n",
    "\n",
    "MODULES_STAT=[]\n",
    "\n",
    "input = torch.ones(1, 256, 8, 8)\n",
    "block = CifarResidualBottleneckBlock(256, make_downsample=True, use_skip_connection=True)\n",
    "register_hook(block)\n",
    "out = block(input)\n",
    "\n",
    "params, memory = features_mem_and_params(input)\n",
    "print(params, memory)\n",
    "assert((params, memory) == (376832, 43008))"
   ]
  },
  {
   "cell_type": "code",
   "execution_count": null,
   "metadata": {},
   "outputs": [],
   "source": []
  },
  {
   "cell_type": "code",
   "execution_count": null,
   "metadata": {},
   "outputs": [],
   "source": []
  }
 ],
 "metadata": {
  "kernelspec": {
   "display_name": "Python 3",
   "language": "python",
   "name": "python3"
  },
  "language_info": {
   "codemirror_mode": {
    "name": "ipython",
    "version": 3
   },
   "file_extension": ".py",
   "mimetype": "text/x-python",
   "name": "python",
   "nbconvert_exporter": "python",
   "pygments_lexer": "ipython3",
   "version": "3.6.8"
  }
 },
 "nbformat": 4,
 "nbformat_minor": 1
}
